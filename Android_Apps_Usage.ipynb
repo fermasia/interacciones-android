{
  "nbformat": 4,
  "nbformat_minor": 0,
  "metadata": {
    "colab": {
      "name": "Android Apps Usage",
      "provenance": [],
      "authorship_tag": "ABX9TyNm9m4moDVcaJgusn6P7Rub",
      "include_colab_link": true
    },
    "kernelspec": {
      "name": "python3",
      "display_name": "Python 3"
    },
    "language_info": {
      "name": "python"
    }
  },
  "cells": [
    {
      "cell_type": "markdown",
      "metadata": {
        "id": "view-in-github",
        "colab_type": "text"
      },
      "source": [
        "<a href=\"https://colab.research.google.com/github/fermasia/interacciones-android/blob/main/Android_Apps_Usage.ipynb\" target=\"_parent\"><img src=\"https://colab.research.google.com/assets/colab-badge.svg\" alt=\"Open In Colab\"/></a>"
      ]
    },
    {
      "cell_type": "markdown",
      "metadata": {
        "id": "cOcLNzhIbG4b"
      },
      "source": [
        "# Procesamiento para Visualización\n",
        "# Interacciones con apps de un smartphone (con Android)\n",
        "\n",
        "Origen del dataset -> https://takeout.google.com/\n",
        "\n",
        "A partir de la exportación de Mi Actividad desde Google Takeout de una cuenta de Android, en formato JSON, y preparación para visualizar en Flourish.Studio"
      ]
    },
    {
      "cell_type": "code",
      "metadata": {
        "id": "IXZzbt-uCSqc"
      },
      "source": [
        "import pandas as pd\n",
        "from google.colab import files"
      ],
      "execution_count": null,
      "outputs": []
    },
    {
      "cell_type": "code",
      "metadata": {
        "id": "l8cJWX2wSEi-"
      },
      "source": [
        "# Definición de Funciones\n",
        "\n",
        "def dismantle_time(dataframe,col):\n",
        "  '''\n",
        "  Fraccionar datetime en Year, Month, Day_Name y Hour\n",
        "  '''\n",
        "  dataframe[\"date\"] = pd.to_datetime(dataframe[col].dt.date) # crear columna con fecha\n",
        "  dataframe[\"year\"] = dataframe[col].dt.year # año\n",
        "  dataframe[\"month\"] = dataframe[col].dt.month # mes\n",
        "  dataframe['weekday'] = dataframe[col].dt.weekday # numero de día de la semana\n",
        "  dataframe[\"day_name\"] = dataframe[col].dt.day_name() # nombre de día de la semana\n",
        "  dataframe['type_of_day'] = dataframe['weekday'].apply(lambda x: 'Semana_Laboral' if x < 5 else 'Fin_de_Semana') # tag weekday/weekend\n",
        "  # renombrar días de la semana al español y con número antecedente para ordenar\n",
        "  dataframe[\"day_name\"] = dataframe[\"day_name\"].replace({\"Monday\": \"1-Lun\", \"Tuesday\": \"2-Mar\",\"Wednesday\": \"\\\n",
        "  3-Mie\",\"Thursday\": \"4-Jue\",\"Friday\": \"5-Vie\",\"Saturday\": \"6-Sab\",\"Sunday\": \"7-Dom\"})\n",
        "  dataframe[\"hour\"] = pd.to_datetime(pd.to_datetime(dataframe[col],errors = 'coerce')).dt.hour # hora\n",
        "  dataframe.rename(columns = {'header':'app'}, inplace = True) # Renombrar header de la columna APPs\n",
        "  return dataframe\n",
        "\n",
        "def top(df,column,cant):\n",
        "  '''\n",
        "  Función para generar lista con nombres de aplicaciones según cantidad de apariciones en el dataset\n",
        "  df - dataframe a procesar\n",
        "  column - nombre de la columna de donde extraer los nombres\n",
        "  cant - definir Top N aplicaciones\n",
        "  ''' \n",
        "  return df.groupby(column)[column].count().sort_values(ascending=False).head(cant).index\n",
        "\n",
        "def prep_takeout(url):\n",
        "  '''\n",
        "  Extraer del dump \"Mi Actividad\" de Google Takeout el las interacciones con aplicaciones\n",
        "  Ajustando el Timezone a Buenos Aires, Argentina \n",
        "  '''\n",
        "  takeout = pd.read_json(url) # leer el json\n",
        "  takeout[\"time\"] = pd.to_datetime(takeout[\"time\"]).dt.tz_convert('America/Buenos_Aires') # Timezone de BsAs, Argentina\n",
        "  # Llamar a funcióin para extraer fechas, horas y nombre del día, etc (dismantle_time)\n",
        "  dismantle_time(takeout,\"time\")\n",
        "  # Depurar columnas que no vamos a usar\n",
        "  takeout.drop(columns=[\"title\",\"titleUrl\",\"products\",\"description\"],inplace=True)\n",
        "  # Quedarnos con meses completos solam considerando el datetime actual\n",
        "  takeout = takeout[takeout.date < takeout.date.max().replace(day=1)]\n",
        "  return takeout\n",
        "\n",
        "def crear_dataset(date,apps,con_horas):\n",
        "  '''\n",
        "  Función para crear un dataset base de aplicaciones con fechas\n",
        "  para rellenar con luego con las interacciones que vengan en el JSON de Google \n",
        "  date - fecha desde la cual crear el dataset\n",
        "  apps - lista o columna del dataframe con los nombres de aplicaciones\n",
        "  con_horas - 1 para multiplicar por 24 las filas y agregar  una columna con horas 0-23\n",
        "  '''\n",
        "  df = pd.DataFrame(columns=[\"time\",\"app\"])\n",
        "  for app in apps:\n",
        "    today = pd.to_datetime('today').normalize() # fecha hasta\n",
        "    if con_horas == 1:\n",
        "      days = pd.DataFrame(pd.date_range(date,today,freq=\"60min\")) # agregar 1 linea por cada hora\n",
        "    else:\n",
        "      days = pd.DataFrame(pd.date_range(date,today))\n",
        "    days.columns = [\"time\"] # agregar columna dummy para mergear con el dataset de Google\n",
        "    days[\"app\"] = app # columna con el nombre de la aplicación\n",
        "    df = df.append(days, ignore_index = True)\n",
        "  return dismantle_time(df,\"time\") #llamar a la aplicación de apertura de fechas y horas en base al dataset creado"
      ],
      "execution_count": null,
      "outputs": []
    },
    {
      "cell_type": "code",
      "metadata": {
        "id": "PtpV9hS2QNLF"
      },
      "source": [
        "## Aqui comenzamosa procesar\n",
        "## El dataset en este ejemplo está subido a un repositorio github pero admite\n",
        "## cualquier url que resuelva el JSON descargado de Google Takeout\n",
        "\n",
        "# Dataset Original (url)\n",
        "url = \"https://raw.githubusercontent.com/fermasia/infovis/gh-pages/MiActividad_180721.json\"\n",
        "\n",
        "# Preparar Dataset (llamar a la función que preprocesa el dataset)\n",
        "takeout = prep_takeout(url)\n",
        "\n",
        "### Quedarse con las top 25 aplicaciones más usadas \n",
        "##  takeout = takeout[takeout.app.isin(top(takeout,'app',25))]\n",
        "### y descartar aplicaciones core de Android  \n",
        "##  takeout = takeout[~takeout.app.isin(['Pixel Launcher','OnePlus Launcher','com.ruthless.nexuslauncher','Contactos','Galaxy Buds+ Plugin'])]\n",
        "\n",
        "# Definir manualmente el universo de aplicaciones a considerar\n",
        "aplicaciones = ['WhatsApp Messenger','Google Chrome: rápido y seguro','Instagram','Facebook','Twitter','Netflix','Mercado Libre: compra fácil y rápido','Gmail','YouTube','Google Maps','Google Fotos','Calendario de Google','Cámara de Google','Spotify: Nueva música y podcasts para vos','Google Podcasts','Microsoft Teams','LinkedIn – App para Buscar Trabajo', 'PedidosYa - Delivery Online']\n",
        "\n",
        "# Filtrar Aplicaciones\n",
        "takeout = takeout[takeout.app.isin(aplicaciones)]"
      ],
      "execution_count": null,
      "outputs": []
    },
    {
      "cell_type": "code",
      "metadata": {
        "id": "yy1O25mYe34I",
        "colab": {
          "base_uri": "https://localhost:8080/",
          "height": 17
        },
        "outputId": "d1e1cd81-5545-40be-9910-cf8045053233"
      },
      "source": [
        "# Ahora comienza el procesamiento para generar los datasets para Flourish.Studio\n",
        "# Para los primeros partimos de una base vacía y relllenamos, para generar en cero \n",
        "# los dias y horas en los que no se haya usado el smartphone\n",
        "\n",
        "# Crear base\n",
        "base = crear_dataset('2019-01-01 00:00:00',aplicaciones,0)\n",
        "\n",
        "# Quedarme con meses completos solamente\n",
        "base = base[base.date < base.date.max().replace(day=1)]\n",
        "\n",
        "# Agrupar por fecha y contar ocurrencias\n",
        "df_med = takeout.groupby([\"app\",\"day_name\",\"date\"])['hour'].count().reset_index().rename(columns={\"hour\":\"cuenta\"})\n",
        "\n",
        "# Joinear con la tabla base\n",
        "base_medias = pd.merge(base,df_med,on=[\"date\",\"app\",\"day_name\"],how=\"left\")\n",
        "base_medias[\"cuenta\"] = base_medias[\"cuenta\"].fillna(0)\n",
        "\n",
        "# Renombrar Aplicaciones por cuestiones estéticas\n",
        "base_medias['app'].replace({'WhatsApp Messenger':'Whatsapp','Google Chrome: rápido y seguro':'Chrome','Mercado Libre: compra fácil y rápido':'MercadoLibre','Calendario de Google':'Calendario','Cámara de Google':'Camara','Spotify: Nueva música y podcasts para vos':'Spotify','LinkedIn – App para Buscar Trabajo':'LinkedIn', 'PedidosYa - Delivery Online':'PedidosYa'},inplace=True)\n",
        "\n",
        "# Calcular medias de cantidades de uso\n",
        "df_media_diaria = base_medias.groupby([\"app\",\"date\",\"day_name\",\"type_of_day\"]).mean().round(2).rename(columns={\"cuenta\":\"promedio\"})\n",
        "df_media_diaria = df_media_diaria.reset_index()\n",
        "\n",
        "# Prep & Dump for Flourish - Preparación del dataset para dibujar un BumpChart con el ranking de aplicaciones más usadas\n",
        "df_media_diaria_mes_dia = df_media_diaria.groupby(['app','month','year']).mean('promedio')['promedio'].reset_index()\n",
        "df_media_diaria_mes_dia['periodo'] = df_media_diaria_mes_dia['year'].astype(str) + \"-\" + df_media_diaria_mes_dia['month'].astype(str).apply(lambda x: x.zfill(2))\n",
        "df_media_diaria_mes_dia.drop(columns=['month','year'],inplace=True)\n",
        "df_media_diaria_bumpchart = df_media_diaria_mes_dia.pivot(index=['app'],columns='periodo',values='promedio').reset_index()\n",
        "df_media_diaria_bumpchart['icon_url'] = ''\n",
        "df_media_diaria_bumpchart.to_csv('df_media_diaria_bumpchart.csv',index=False)\n",
        "files.download(\"df_media_diaria_bumpchart.csv\")\n",
        "\n",
        "# Prep & Dump for Flourish - Preparación del dataset para crear una visualización de múltiples con radar charts\n",
        "df_media_diaria_facets = df_media_diaria.groupby(['app','day_name','type_of_day']).mean('promedio')['promedio'].reset_index().pivot(index=['day_name','type_of_day'],columns='app',values='promedio').reset_index()\n",
        "column_order = ['day_name','type_of_day'] + df_media_diaria.groupby('app').sum('promedio')['promedio'].sort_values(ascending=False).reset_index().app.to_list()\n",
        "df_media_diaria_facets = df_media_diaria_facets.reindex(column_order, axis=1)\n",
        "df_media_diaria_facets.to_csv('df_media_diaria_facets.csv',index=False)\n",
        "files.download(\"df_media_diaria_facets.csv\")\n",
        "\n",
        "# Prep & Dump for Flourish - Preparación del dataset para crear una visualización de Heatmap con horas y dias de la semana\n",
        "df_heat = takeout.groupby(['hour','day_name'])['time'].count().reset_index()\n",
        "df_heat.to_csv('df_heat.csv',index=False)\n",
        "files.download(\"df_heat.csv\")\n",
        "\n",
        "# Prep & Dump for Flourish - Preparar dataset para dibujar un chart de jerarquías\n",
        "# df_hieararchy = takeout.groupby([\"hour\",\"app\"]).count()['time'].reset_index().rename(columns={\"time\":\"cuenta\"})\n",
        "# df_hieararchy.to_csv('df_hieararchy.csv',index=False)\n",
        "# files.download(\"df_hieararchy.csv\")\n"
      ],
      "execution_count": null,
      "outputs": [
        {
          "output_type": "display_data",
          "data": {
            "application/javascript": [
              "\n",
              "    async function download(id, filename, size) {\n",
              "      if (!google.colab.kernel.accessAllowed) {\n",
              "        return;\n",
              "      }\n",
              "      const div = document.createElement('div');\n",
              "      const label = document.createElement('label');\n",
              "      label.textContent = `Downloading \"${filename}\": `;\n",
              "      div.appendChild(label);\n",
              "      const progress = document.createElement('progress');\n",
              "      progress.max = size;\n",
              "      div.appendChild(progress);\n",
              "      document.body.appendChild(div);\n",
              "\n",
              "      const buffers = [];\n",
              "      let downloaded = 0;\n",
              "\n",
              "      const channel = await google.colab.kernel.comms.open(id);\n",
              "      // Send a message to notify the kernel that we're ready.\n",
              "      channel.send({})\n",
              "\n",
              "      for await (const message of channel.messages) {\n",
              "        // Send a message to notify the kernel that we're ready.\n",
              "        channel.send({})\n",
              "        if (message.buffers) {\n",
              "          for (const buffer of message.buffers) {\n",
              "            buffers.push(buffer);\n",
              "            downloaded += buffer.byteLength;\n",
              "            progress.value = downloaded;\n",
              "          }\n",
              "        }\n",
              "      }\n",
              "      const blob = new Blob(buffers, {type: 'application/binary'});\n",
              "      const a = document.createElement('a');\n",
              "      a.href = window.URL.createObjectURL(blob);\n",
              "      a.download = filename;\n",
              "      div.appendChild(a);\n",
              "      a.click();\n",
              "      div.remove();\n",
              "    }\n",
              "  "
            ],
            "text/plain": [
              "<IPython.core.display.Javascript object>"
            ]
          },
          "metadata": {
            "tags": []
          }
        },
        {
          "output_type": "display_data",
          "data": {
            "application/javascript": [
              "download(\"download_4f48bde1-f682-4e51-8a00-180457a745f8\", \"df_media_diaria_bumpchart.csv\", 8590)"
            ],
            "text/plain": [
              "<IPython.core.display.Javascript object>"
            ]
          },
          "metadata": {
            "tags": []
          }
        },
        {
          "output_type": "display_data",
          "data": {
            "application/javascript": [
              "\n",
              "    async function download(id, filename, size) {\n",
              "      if (!google.colab.kernel.accessAllowed) {\n",
              "        return;\n",
              "      }\n",
              "      const div = document.createElement('div');\n",
              "      const label = document.createElement('label');\n",
              "      label.textContent = `Downloading \"${filename}\": `;\n",
              "      div.appendChild(label);\n",
              "      const progress = document.createElement('progress');\n",
              "      progress.max = size;\n",
              "      div.appendChild(progress);\n",
              "      document.body.appendChild(div);\n",
              "\n",
              "      const buffers = [];\n",
              "      let downloaded = 0;\n",
              "\n",
              "      const channel = await google.colab.kernel.comms.open(id);\n",
              "      // Send a message to notify the kernel that we're ready.\n",
              "      channel.send({})\n",
              "\n",
              "      for await (const message of channel.messages) {\n",
              "        // Send a message to notify the kernel that we're ready.\n",
              "        channel.send({})\n",
              "        if (message.buffers) {\n",
              "          for (const buffer of message.buffers) {\n",
              "            buffers.push(buffer);\n",
              "            downloaded += buffer.byteLength;\n",
              "            progress.value = downloaded;\n",
              "          }\n",
              "        }\n",
              "      }\n",
              "      const blob = new Blob(buffers, {type: 'application/binary'});\n",
              "      const a = document.createElement('a');\n",
              "      a.href = window.URL.createObjectURL(blob);\n",
              "      a.download = filename;\n",
              "      div.appendChild(a);\n",
              "      a.click();\n",
              "      div.remove();\n",
              "    }\n",
              "  "
            ],
            "text/plain": [
              "<IPython.core.display.Javascript object>"
            ]
          },
          "metadata": {
            "tags": []
          }
        },
        {
          "output_type": "display_data",
          "data": {
            "application/javascript": [
              "download(\"download_accf9f0e-5543-416e-bec7-9a8cf7ba2485\", \"df_media_diaria_facets.csv\", 2557)"
            ],
            "text/plain": [
              "<IPython.core.display.Javascript object>"
            ]
          },
          "metadata": {
            "tags": []
          }
        },
        {
          "output_type": "display_data",
          "data": {
            "application/javascript": [
              "\n",
              "    async function download(id, filename, size) {\n",
              "      if (!google.colab.kernel.accessAllowed) {\n",
              "        return;\n",
              "      }\n",
              "      const div = document.createElement('div');\n",
              "      const label = document.createElement('label');\n",
              "      label.textContent = `Downloading \"${filename}\": `;\n",
              "      div.appendChild(label);\n",
              "      const progress = document.createElement('progress');\n",
              "      progress.max = size;\n",
              "      div.appendChild(progress);\n",
              "      document.body.appendChild(div);\n",
              "\n",
              "      const buffers = [];\n",
              "      let downloaded = 0;\n",
              "\n",
              "      const channel = await google.colab.kernel.comms.open(id);\n",
              "      // Send a message to notify the kernel that we're ready.\n",
              "      channel.send({})\n",
              "\n",
              "      for await (const message of channel.messages) {\n",
              "        // Send a message to notify the kernel that we're ready.\n",
              "        channel.send({})\n",
              "        if (message.buffers) {\n",
              "          for (const buffer of message.buffers) {\n",
              "            buffers.push(buffer);\n",
              "            downloaded += buffer.byteLength;\n",
              "            progress.value = downloaded;\n",
              "          }\n",
              "        }\n",
              "      }\n",
              "      const blob = new Blob(buffers, {type: 'application/binary'});\n",
              "      const a = document.createElement('a');\n",
              "      a.href = window.URL.createObjectURL(blob);\n",
              "      a.download = filename;\n",
              "      div.appendChild(a);\n",
              "      a.click();\n",
              "      div.remove();\n",
              "    }\n",
              "  "
            ],
            "text/plain": [
              "<IPython.core.display.Javascript object>"
            ]
          },
          "metadata": {
            "tags": []
          }
        },
        {
          "output_type": "display_data",
          "data": {
            "application/javascript": [
              "download(\"download_1226e398-a18a-447d-9dc1-c8ee8e896050\", \"df_heat.csv\", 2127)"
            ],
            "text/plain": [
              "<IPython.core.display.Javascript object>"
            ]
          },
          "metadata": {
            "tags": []
          }
        }
      ]
    }
  ]
}